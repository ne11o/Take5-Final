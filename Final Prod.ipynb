{
 "cells": [
  {
   "cell_type": "markdown",
   "metadata": {},
   "source": [
    "## Density Profiler Visualization:\n",
    "1) Set up the parameters\n",
    "\n",
    "2) Load and Plot interactive Graph"
   ]
  },
  {
   "cell_type": "code",
   "execution_count": 24,
   "metadata": {},
   "outputs": [],
   "source": [
    "import seeq\n",
    "from seeq import spy\n",
    "import pandas\n",
    "\n",
    "import numpy\n",
    "import matplotlib\n",
    "\n",
    "# import matplotlib.pyplot as plt\n",
    "# import matplotlib.patches as mpatches\n",
    "\n",
    "%matplotlib inline \n",
    "# %matplotlib notebook\n",
    "\n",
    "# from ipywidgets import interactive, HBox, VBox, interact, Layout\n",
    "import ipywidgets\n",
    "\n",
    "import IPython\n",
    "\n",
    "import datetime"
   ]
  },
  {
   "cell_type": "code",
   "execution_count": 18,
   "metadata": {},
   "outputs": [
    {
     "data": {
      "application/vnd.jupyter.widget-view+json": {
       "model_id": "ea42f1eabb834d118c984ba9d0d5fb43",
       "version_major": 2,
       "version_minor": 0
      },
      "text/plain": [
       "HBox(children=(Text(value='user@bp.com', description='Enter BP mail ', placeholder='Type Username', style=Desc…"
      ]
     },
     "metadata": {},
     "output_type": "display_data"
    }
   ],
   "source": [
    "userName = ipywidgets.Text(\n",
    "    value='user@bp.com',\n",
    "    placeholder='Type Username',\n",
    "    description='Enter BP mail ',\n",
    "    disabled=False,\n",
    "style = {'description_width': 'initial'}\n",
    ")\n",
    "password = ipywidgets.Text(\n",
    "    value='Password',\n",
    "    placeholder='Type Password',\n",
    "    description='Enter BP Password ',\n",
    "    disabled=False,\n",
    "style = {'description_width': 'initial'}\n",
    ")\n",
    "\n",
    "log = ipywidgets.HBox([userName,password])\n",
    "IPython.display.display(log)"
   ]
  },
  {
   "cell_type": "code",
   "execution_count": 19,
   "metadata": {},
   "outputs": [
    {
     "data": {
      "application/vnd.jupyter.widget-view+json": {
       "model_id": "a5ad6e4d170747e1bbeacd520619049b",
       "version_major": 2,
       "version_minor": 0
      },
      "text/plain": [
       "HBox(children=(VBox(children=(DatePicker(value=datetime.date(2020, 2, 19), description='Starting date', style=…"
      ]
     },
     "metadata": {},
     "output_type": "display_data"
    }
   ],
   "source": [
    "#Date Picker widgets\n",
    "style = {'description_width': 'initial'}\n",
    "\n",
    "startTime = ipywidgets.DatePicker(\n",
    "    value = datetime.date.today() - datetime.timedelta(days=1),\n",
    "    description='Starting date',\n",
    "    disabled=False,\n",
    "    style=style\n",
    ")\n",
    "startTimeh = ipywidgets.Text(\n",
    "    value='01:00:00',\n",
    "    placeholder='Type time',\n",
    "    description='HH:MM:SS ',\n",
    "    disabled=False\n",
    ")\n",
    "\n",
    "endTime = ipywidgets.DatePicker(\n",
    "    value = datetime.date.today(),\n",
    "    description='Ending date',\n",
    "    disabled=False,\n",
    "    style=style\n",
    ")\n",
    "endTimeh = ipywidgets.Text(\n",
    "    value='00:00:00',\n",
    "    placeholder='Type time',\n",
    "    description='HH:MM:SS ',\n",
    "    disabled=False\n",
    ")\n",
    "\n",
    "asset = ipywidgets.Dropdown(\n",
    "    options=[('IP Sep', 'PSVM-1A-DI022**.PV PSVM-1A-XI02205**.PV'), ('Treater', 'PSVM-1A-DI023**.PV PSVM-1A-XI0230**.PV'),\n",
    "             ('Desalter', 'PSVM-1A-DI024**.PV PSVM-1A-XI0240**.PV'), ('HP Sep A', 'PSVM-1A-DI02105**.PV PSVM-1A-XI02205**.PV')],\n",
    "    value='PSVM-1A-DI022**.PV PSVM-1A-XI02205**.PV',\n",
    "    description='Asset:',\n",
    ")\n",
    "fequency = ipywidgets.Dropdown(\n",
    "    options=[('1Min', '1min'),('5Min','5min'),('15Min','15min'),('30Min','30min'),('60Min','60min')],\n",
    "    value='1min',\n",
    "    description='Frequency:',\n",
    ")\n",
    "v1 = ipywidgets.VBox([startTime,startTimeh])\n",
    "v2 = ipywidgets.VBox([endTime,endTimeh])\n",
    "v3 = ipywidgets.VBox([asset,fequency])\n",
    "l = ipywidgets.HBox([v1,v2, v3])\n",
    "IPython.display.display(l)"
   ]
  },
  {
   "cell_type": "code",
   "execution_count": 26,
   "metadata": {},
   "outputs": [
    {
     "data": {
      "application/vnd.jupyter.widget-view+json": {
       "model_id": "161e81a07596483dbb9d9c844136dfee",
       "version_major": 2,
       "version_minor": 0
      },
      "text/plain": [
       "Button(description='Load & Plot Data', style=ButtonStyle())"
      ]
     },
     "metadata": {},
     "output_type": "display_data"
    },
    {
     "data": {
      "application/vnd.jupyter.widget-view+json": {
       "model_id": "cc4208c096164605bda35d2e38d3e730",
       "version_major": 2,
       "version_minor": 0
      },
      "text/plain": [
       "Output()"
      ]
     },
     "metadata": {},
     "output_type": "display_data"
    }
   ],
   "source": [
    "def getLogin():\n",
    "    f = open(\"credentials.key\", \"w\")   # 'r' for reading and 'w' for writing\n",
    "    f.write(\"{} \\n{}\".format(userName.value,password.value))    # Write inside file \n",
    "    f.close()  \n",
    "    \n",
    "def getData(StartTime, EndTime, Freq, Sep, SepLimits):\n",
    "    my_items = pandas.DataFrame({'Name': [Sep]})\n",
    "    x = seeq.spy.search(my_items)\n",
    "    my_data = seeq.spy.pull(x, start=StartTime, end=EndTime, grid=Freq, header='Name')\n",
    "    my_data = my_data.reindex(sorted(my_data.columns), axis=1)\n",
    "    # my_data\n",
    "\n",
    "    my_new_items = pandas.DataFrame({'Name': [SepLimits]})\n",
    "    x_limits = seeq.spy.search(my_new_items)\n",
    "\n",
    "    my_data_limits = seeq.spy.pull(x_limits, start=StartTime, end=EndTime, grid=Freq, header='Name')\n",
    "    # my_data = my_data.reindex(sorted(my_data.columns), axis=1)\n",
    "    # my_data_limits\n",
    "    return my_data, my_data_limits\n",
    "\n",
    "def plotData(b):\n",
    "\n",
    "    sep1 = asset.value.split()[0]\n",
    "    sepLimits1 = asset.value.split()[1]\n",
    "    startTime1 = startTime.value.strftime(\"%D\") + \" \" + startTimeh.value\n",
    "    endTime1 = endTime.value.strftime(\"%D\") + \" \" + endTimeh.value\n",
    "    freq = fequency.value#'60min'\n",
    "    my_data, my_data_limits = getData(startTime1, endTime1, freq, sep1, sepLimits1)\n",
    "    x = (numpy.arange(len(my_data.columns), 0, -1)/len(my_data.columns))*100\n",
    "\n",
    "    IPython.display.clear_output(wait=True)\n",
    "    slider = ipywidgets.IntSlider(value=1,min=1,max=len(my_data)-1,step=1,description='Date',layout={'width': '800px'})\n",
    "    play = ipywidgets.Play(value=1,min=1,max=len(my_data)-1,step=1,interval=1211,description=\"Press play\",disabled=False)\n",
    "    g = ipywidgets.jslink((play, 'value'), (slider, 'value'))\n",
    "\n",
    "    @ipywidgets.interact\n",
    "    def plotF(a = slider,b=play):\n",
    "        matplotlib.pyplot.rcParams['figure.figsize'] = (20,8)\n",
    "        matplotlib.pyplot.rcParams.update({'font.size': 18})\n",
    "        matplotlib.pyplot.rcParams['axes.xmargin'] = 0\n",
    "        matplotlib.pyplot.rcParams['axes.ymargin'] = 0\n",
    "\n",
    "        y = my_data.iloc[b]\n",
    "        limits = my_data_limits.iloc[b].sort_values()\n",
    "\n",
    "        Gas = y <= limits[0]\n",
    "        Foam = (y > limits[0]) & (y <= limits[1])\n",
    "        Oil = (y > limits[1]) & (y <= limits[2])\n",
    "        Emul = (y > limits[2]) & (y <= limits[3])\n",
    "        Water = (y > limits[3]) & (y <= limits[4])\n",
    "        Sand = y > limits[4]\n",
    "\n",
    "        x1 = matplotlib.pyplot.barh(x[Gas],y[Gas],color = 'gray', edgecolor='black', label='Gas')\n",
    "        x2 = matplotlib.pyplot.barh(x[Foam],y[Foam],color = 'yellow', edgecolor='black', label='Foam')\n",
    "        x3 = matplotlib.pyplot.barh(x[Oil],y[Oil],color = 'black', edgecolor='black', label='Oil')\n",
    "        x4 = matplotlib.pyplot.barh(x[Emul],y[Emul],color = 'orange', edgecolor='black', label='Emul')\n",
    "        x5 = matplotlib.pyplot.barh(x[Water],y[Water],color = 'blue', edgecolor='black', label='Water')\n",
    "        x6 = matplotlib.pyplot.barh(x[Sand],y[Sand],color = 'red', edgecolor='black', label='Sand')\n",
    "\n",
    "\n",
    "        gas = matplotlib.patches.Patch(color='gray', label='Gas')\n",
    "        foam = matplotlib.patches.Patch(color='yellow', label='Foam')\n",
    "        oil = matplotlib.patches.Patch(color='black', label='Oil')\n",
    "        emul = matplotlib.patches.Patch(color='orange', label='Emul')\n",
    "        water = matplotlib.patches.Patch(color='blue', label='Water')\n",
    "        sand = matplotlib.patches.Patch(color='red', label='Sand')\n",
    "        matplotlib.pyplot.legend(handles=[gas,foam,oil,emul,water,sand])\n",
    "#         print(my_data.index[b].strftime(\"%b %d %Y %H:%M:%S\"))\n",
    "        matplotlib.pyplot.title('DP view for separator at: {}'.format(my_data.index[b].strftime(\"%b %d %Y %H:%M:%S\")))\n",
    "        matplotlib.pyplot.show()\n",
    "    \n",
    "\n",
    "        \n",
    "# x,y = getData(startTime, endTime, freq, sep, sepLimits)\n",
    "button = ipywidgets.Button(description=\"Load & Plot Data\")\n",
    "\n",
    "output = ipywidgets.Output()\n",
    "IPython.display.display(button,output)\n",
    "\n",
    "\n",
    "def on_button_clicked(b):\n",
    "\n",
    "    with output:\n",
    "        print(\"Button clicked.\")\n",
    "        getLogin()\n",
    "        spy.login(url='https://seeq-eh.bpweb.bp.com', credentials_file = 'credentials.key', directory='Minimal AD configuration', ignore_ssl_errors=True)\n",
    "        IPython.display.clear_output(wait=True)\n",
    "        plotData(b)\n",
    "\n",
    "button.on_click(on_button_clicked)\n",
    "\n"
   ]
  },
  {
   "cell_type": "code",
   "execution_count": null,
   "metadata": {},
   "outputs": [],
   "source": []
  }
 ],
 "metadata": {
  "kernelspec": {
   "display_name": "Python 3",
   "language": "python",
   "name": "python3"
  },
  "language_info": {
   "codemirror_mode": {
    "name": "ipython",
    "version": 3
   },
   "file_extension": ".py",
   "mimetype": "text/x-python",
   "name": "python",
   "nbconvert_exporter": "python",
   "pygments_lexer": "ipython3",
   "version": "3.7.4"
  }
 },
 "nbformat": 4,
 "nbformat_minor": 2
}
